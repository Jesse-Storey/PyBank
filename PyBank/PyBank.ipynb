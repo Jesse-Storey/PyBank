{
 "cells": [
  {
   "cell_type": "markdown",
   "id": "d5c668e3-e640-4763-a24d-9b04f55bb258",
   "metadata": {},
   "source": [
    "* The total number of months included in the dataset."
   ]
  },
  {
   "cell_type": "code",
   "execution_count": 1,
   "id": "9cb81cdc-63a4-41e7-bd13-f9cd905490f8",
   "metadata": {},
   "outputs": [],
   "source": [
    "from pathlib import Path\n",
    "import csv"
   ]
  },
  {
   "cell_type": "code",
   "execution_count": 2,
   "id": "ba5847e6-4f5b-401c-8aa7-1796a2001571",
   "metadata": {},
   "outputs": [
    {
     "name": "stdout",
     "output_type": "stream",
     "text": [
      "Current Working Directory: C:\\Users\\jesse\\python-homework\\PyBank\n"
     ]
    }
   ],
   "source": [
    "print(f\"Current Working Directory: {Path.cwd()}\")"
   ]
  },
  {
   "cell_type": "code",
   "execution_count": 3,
   "id": "1cc76f72-e514-405e-a820-c52ab3da4a8e",
   "metadata": {},
   "outputs": [],
   "source": [
    "csvpath = Path('..\\PyBank\\data.csv')"
   ]
  },
  {
   "cell_type": "code",
   "execution_count": 4,
   "id": "401675b8-223a-4611-98a9-928706a0b49f",
   "metadata": {},
   "outputs": [],
   "source": [
    "profitloss=[]\n",
    "line_num=0"
   ]
  },
  {
   "cell_type": "code",
   "execution_count": 5,
   "id": "fccf1a50-f310-4ac0-b920-705f344df2de",
   "metadata": {},
   "outputs": [
    {
     "name": "stdout",
     "output_type": "stream",
     "text": [
      "<class 'pathlib.WindowsPath'>\n"
     ]
    }
   ],
   "source": [
    "print(type(csvpath))"
   ]
  },
  {
   "cell_type": "code",
   "execution_count": 6,
   "id": "c55a6cc9-5e5c-4579-9dc1-7cf52b5f640f",
   "metadata": {},
   "outputs": [
    {
     "name": "stdout",
     "output_type": "stream",
     "text": [
      "<class '_io.TextIOWrapper'>\n",
      "['Date', 'Profit/Losses']<----HEADER\n",
      "['Jan-2010', '867884']\n",
      "<class '_csv.reader'>\n",
      "['Feb-2010', '984655']\n",
      "<class '_csv.reader'>\n",
      "['Mar-2010', '322013']\n",
      "<class '_csv.reader'>\n",
      "['Apr-2010', '-69417']\n",
      "<class '_csv.reader'>\n",
      "['May-2010', '310503']\n",
      "<class '_csv.reader'>\n",
      "['Jun-2010', '522857']\n",
      "<class '_csv.reader'>\n",
      "['Jul-2010', '1033096']\n",
      "<class '_csv.reader'>\n",
      "['Aug-2010', '604885']\n",
      "<class '_csv.reader'>\n",
      "['Sep-2010', '-216386']\n",
      "<class '_csv.reader'>\n",
      "['Oct-2010', '477532']\n",
      "<class '_csv.reader'>\n",
      "['Nov-2010', '893810']\n",
      "<class '_csv.reader'>\n",
      "['Dec-2010', '-80353']\n",
      "<class '_csv.reader'>\n",
      "['Jan-2011', '779806']\n",
      "<class '_csv.reader'>\n",
      "['Feb-2011', '-335203']\n",
      "<class '_csv.reader'>\n",
      "['Mar-2011', '697845']\n",
      "<class '_csv.reader'>\n",
      "['Apr-2011', '793163']\n",
      "<class '_csv.reader'>\n",
      "['May-2011', '485070']\n",
      "<class '_csv.reader'>\n",
      "['Jun-2011', '584122']\n",
      "<class '_csv.reader'>\n",
      "['Jul-2011', '62729']\n",
      "<class '_csv.reader'>\n",
      "['Aug-2011', '668179']\n",
      "<class '_csv.reader'>\n",
      "['Sep-2011', '899906']\n",
      "<class '_csv.reader'>\n",
      "['Oct-2011', '834719']\n",
      "<class '_csv.reader'>\n",
      "['Nov-2011', '132003']\n",
      "<class '_csv.reader'>\n",
      "['Dec-2011', '309978']\n",
      "<class '_csv.reader'>\n",
      "['Jan-2012', '-755566']\n",
      "<class '_csv.reader'>\n",
      "['Feb-2012', '1170593']\n",
      "<class '_csv.reader'>\n",
      "['Mar-2012', '252788']\n",
      "<class '_csv.reader'>\n",
      "['Apr-2012', '1151518']\n",
      "<class '_csv.reader'>\n",
      "['May-2012', '817256']\n",
      "<class '_csv.reader'>\n",
      "['Jun-2012', '570757']\n",
      "<class '_csv.reader'>\n",
      "['Jul-2012', '506702']\n",
      "<class '_csv.reader'>\n",
      "['Aug-2012', '-1022534']\n",
      "<class '_csv.reader'>\n",
      "['Sep-2012', '475062']\n",
      "<class '_csv.reader'>\n",
      "['Oct-2012', '779976']\n",
      "<class '_csv.reader'>\n",
      "['Nov-2012', '144175']\n",
      "<class '_csv.reader'>\n",
      "['Dec-2012', '542494']\n",
      "<class '_csv.reader'>\n",
      "['Jan-2013', '359333']\n",
      "<class '_csv.reader'>\n",
      "['Feb-2013', '321469']\n",
      "<class '_csv.reader'>\n",
      "['Mar-2013', '67780']\n",
      "<class '_csv.reader'>\n",
      "['Apr-2013', '471435']\n",
      "<class '_csv.reader'>\n",
      "['May-2013', '565603']\n",
      "<class '_csv.reader'>\n",
      "['Jun-2013', '872480']\n",
      "<class '_csv.reader'>\n",
      "['Jul-2013', '789480']\n",
      "<class '_csv.reader'>\n",
      "['Aug-2013', '999942']\n",
      "<class '_csv.reader'>\n",
      "['Sep-2013', '-1196225']\n",
      "<class '_csv.reader'>\n",
      "['Oct-2013', '268997']\n",
      "<class '_csv.reader'>\n",
      "['Nov-2013', '-687986']\n",
      "<class '_csv.reader'>\n",
      "['Dec-2013', '1150461']\n",
      "<class '_csv.reader'>\n",
      "['Jan-2014', '682458']\n",
      "<class '_csv.reader'>\n",
      "['Feb-2014', '617856']\n",
      "<class '_csv.reader'>\n",
      "['Mar-2014', '824098']\n",
      "<class '_csv.reader'>\n",
      "['Apr-2014', '581943']\n",
      "<class '_csv.reader'>\n",
      "['May-2014', '132864']\n",
      "<class '_csv.reader'>\n",
      "['Jun-2014', '448062']\n",
      "<class '_csv.reader'>\n",
      "['Jul-2014', '689161']\n",
      "<class '_csv.reader'>\n",
      "['Aug-2014', '800701']\n",
      "<class '_csv.reader'>\n",
      "['Sep-2014', '1166643']\n",
      "<class '_csv.reader'>\n",
      "['Oct-2014', '947333']\n",
      "<class '_csv.reader'>\n",
      "['Nov-2014', '578668']\n",
      "<class '_csv.reader'>\n",
      "['Dec-2014', '988505']\n",
      "<class '_csv.reader'>\n",
      "['Jan-2015', '1139715']\n",
      "<class '_csv.reader'>\n",
      "['Feb-2015', '1029471']\n",
      "<class '_csv.reader'>\n",
      "['Mar-2015', '687533']\n",
      "<class '_csv.reader'>\n",
      "['Apr-2015', '-524626']\n",
      "<class '_csv.reader'>\n",
      "['May-2015', '158620']\n",
      "<class '_csv.reader'>\n",
      "['Jun-2015', '87795']\n",
      "<class '_csv.reader'>\n",
      "['Jul-2015', '423389']\n",
      "<class '_csv.reader'>\n",
      "['Aug-2015', '840723']\n",
      "<class '_csv.reader'>\n",
      "['Sep-2015', '568529']\n",
      "<class '_csv.reader'>\n",
      "['Oct-2015', '332067']\n",
      "<class '_csv.reader'>\n",
      "['Nov-2015', '989499']\n",
      "<class '_csv.reader'>\n",
      "['Dec-2015', '778237']\n",
      "<class '_csv.reader'>\n",
      "['Jan-2016', '650000']\n",
      "<class '_csv.reader'>\n",
      "['Feb-2016', '-1100387']\n",
      "<class '_csv.reader'>\n",
      "['Mar-2016', '-174946']\n",
      "<class '_csv.reader'>\n",
      "['Apr-2016', '757143']\n",
      "<class '_csv.reader'>\n",
      "['May-2016', '445709']\n",
      "<class '_csv.reader'>\n",
      "['Jun-2016', '712961']\n",
      "<class '_csv.reader'>\n",
      "['Jul-2016', '-1163797']\n",
      "<class '_csv.reader'>\n",
      "['Aug-2016', '569899']\n",
      "<class '_csv.reader'>\n",
      "['Sep-2016', '768450']\n",
      "<class '_csv.reader'>\n",
      "['Oct-2016', '102685']\n",
      "<class '_csv.reader'>\n",
      "['Nov-2016', '795914']\n",
      "<class '_csv.reader'>\n",
      "['Dec-2016', '60988']\n",
      "<class '_csv.reader'>\n",
      "['Jan-2017', '138230']\n",
      "<class '_csv.reader'>\n",
      "['Feb-2017', '671099']\n",
      "<class '_csv.reader'>\n"
     ]
    }
   ],
   "source": [
    "with open(csvpath, \"r\") as csvfile: \n",
    "    print(type(csvfile))\n",
    "    csv_reader = csv.reader(csvfile, delimiter=',')\n",
    "    header = next(csv_reader)\n",
    "    line_num += 1\n",
    "    print(f\"{header}<----HEADER\")\n",
    "    for row in csv_reader: \n",
    "        print(row)\n",
    "        ProfitLosses = int(row[1])\n",
    "        profitloss.append(ProfitLosses)\n",
    "        print(type(csv_reader))"
   ]
  },
  {
   "cell_type": "code",
   "execution_count": 7,
   "id": "78f9aed9-5978-4777-9de8-e416476f023a",
   "metadata": {},
   "outputs": [],
   "source": [
    "maxpl=0\n",
    "minpl=0\n",
    "avgpl=0\n",
    "totalpl=0\n",
    "countpl=0"
   ]
  },
  {
   "cell_type": "code",
   "execution_count": 8,
   "id": "f49efcd7-b207-4c8a-bdcb-dd3802c564f6",
   "metadata": {},
   "outputs": [],
   "source": [
    "for ProfitLosses in profitloss:\n",
    "    totalpl += ProfitLosses\n",
    "    countpl += 1\n",
    "    if minpl == 0:\n",
    "        minpl = ProfitLosses\n",
    "    elif ProfitLosses>maxpl:\n",
    "        maxpl=ProfitLosses\n",
    "    elif ProfitLosses<minpl:\n",
    "        minpl=ProfitLosses"
   ]
  },
  {
   "cell_type": "code",
   "execution_count": 9,
   "id": "3fa29ff9-3980-4e30-81e2-b68a219b67f8",
   "metadata": {},
   "outputs": [],
   "source": [
    "avgpl=round(totalpl/countpl, 2)"
   ]
  },
  {
   "cell_type": "code",
   "execution_count": 10,
   "id": "4afc1ba2-5e9f-4b00-96e5-117e809e9e99",
   "metadata": {},
   "outputs": [
    {
     "name": "stdout",
     "output_type": "stream",
     "text": [
      "1170593 -1196225 446309.05 38382578 86\n"
     ]
    }
   ],
   "source": [
    "print(maxpl, minpl, avgpl, totalpl, countpl)"
   ]
  },
  {
   "cell_type": "code",
   "execution_count": 11,
   "id": "0dbaa5a3-8543-4643-a865-f677a3bc4ae2",
   "metadata": {},
   "outputs": [],
   "source": [
    "header = [\"maxpl\", \"minpl\", \"avgpl\", \"totalpl\", \"countpl\"]"
   ]
  },
  {
   "cell_type": "code",
   "execution_count": 12,
   "id": "61bcf781-8c33-49a0-a7fe-e198a9c99585",
   "metadata": {},
   "outputs": [],
   "source": [
    "metrics = [maxpl, minpl, avgpl, totalpl, countpl]"
   ]
  },
  {
   "cell_type": "code",
   "execution_count": 13,
   "id": "27ac00d9-2a8c-46c3-bc44-46f41cfb0237",
   "metadata": {},
   "outputs": [],
   "source": [
    "output_path=Path('output.csv')"
   ]
  },
  {
   "cell_type": "code",
   "execution_count": 14,
   "id": "fd612527-f3d3-4b76-b655-1fa47af35fee",
   "metadata": {},
   "outputs": [],
   "source": [
    "    with open(output_path,\"w\") as csvfile:\n",
    "        csvwriter = csv.writer(csvfile, delimiter=',')\n",
    "        csvwriter.writerow(header)\n",
    "        csvwriter.writerow(metrics)"
   ]
  },
  {
   "cell_type": "code",
   "execution_count": null,
   "id": "d35f133a-f52c-4e02-894b-fca715bb402d",
   "metadata": {},
   "outputs": [],
   "source": []
  }
 ],
 "metadata": {
  "kernelspec": {
   "display_name": "Python 3",
   "language": "python",
   "name": "python3"
  },
  "language_info": {
   "codemirror_mode": {
    "name": "ipython",
    "version": 3
   },
   "file_extension": ".py",
   "mimetype": "text/x-python",
   "name": "python",
   "nbconvert_exporter": "python",
   "pygments_lexer": "ipython3",
   "version": "3.8.8"
  }
 },
 "nbformat": 4,
 "nbformat_minor": 5
}
