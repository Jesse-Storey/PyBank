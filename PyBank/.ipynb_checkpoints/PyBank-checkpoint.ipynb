{
 "cells": [
  {
   "cell_type": "markdown",
   "id": "d5c668e3-e640-4763-a24d-9b04f55bb258",
   "metadata": {},
   "source": [
    "* The total number of months included in the dataset."
   ]
  },
  {
   "cell_type": "code",
   "execution_count": 1,
   "id": "9cb81cdc-63a4-41e7-bd13-f9cd905490f8",
   "metadata": {},
   "outputs": [],
   "source": [
    "from pathlib import Path\n",
    "import numpy as np\n",
    "import numpy_financial as npf\n",
    "import math\n",
    "import csv"
   ]
  },
  {
   "cell_type": "code",
   "execution_count": 2,
   "id": "ba5847e6-4f5b-401c-8aa7-1796a2001571",
   "metadata": {},
   "outputs": [
    {
     "name": "stdout",
     "output_type": "stream",
     "text": [
      "Current Working Directory: C:\\Users\\jesse\\python-homework\\PyBank\n"
     ]
    }
   ],
   "source": [
    "print(f\"Current Working Directory: {Path.cwd()}\")"
   ]
  },
  {
   "cell_type": "code",
   "execution_count": 3,
   "id": "1cc76f72-e514-405e-a820-c52ab3da4a8e",
   "metadata": {},
   "outputs": [],
   "source": [
    "csvpath = Path(r'C:\\Users\\jesse\\python-homework\\PyBank\\budget_data.csv')"
   ]
  },
  {
   "cell_type": "code",
   "execution_count": 4,
   "id": "401675b8-223a-4611-98a9-928706a0b49f",
   "metadata": {},
   "outputs": [],
   "source": [
    "profitloss=[]\n",
    "line_num=0"
   ]
  },
  {
   "cell_type": "code",
   "execution_count": 6,
   "id": "fccf1a50-f310-4ac0-b920-705f344df2de",
   "metadata": {},
   "outputs": [
    {
     "name": "stdout",
     "output_type": "stream",
     "text": [
      "<class 'pathlib.WindowsPath'>\n"
     ]
    }
   ],
   "source": [
    "print(type(csvpath))"
   ]
  },
  {
   "cell_type": "code",
   "execution_count": 17,
   "id": "c55a6cc9-5e5c-4579-9dc1-7cf52b5f640f",
   "metadata": {},
   "outputs": [],
   "source": [
    "with open(csvpath, \"r\") as csvfile: \n",
    "    csvreader = csv.reader(csvfile, delimiter=',') "
   ]
  },
  {
   "cell_type": "code",
   "execution_count": 18,
   "id": "0d9ba745-c886-4e82-8258-9d756e5448c2",
   "metadata": {},
   "outputs": [
    {
     "ename": "ValueError",
     "evalue": "I/O operation on closed file.",
     "output_type": "error",
     "traceback": [
      "\u001b[1;31m---------------------------------------------------------------------------\u001b[0m",
      "\u001b[1;31mValueError\u001b[0m                                Traceback (most recent call last)",
      "\u001b[1;32m<ipython-input-18-0ec0eb070853>\u001b[0m in \u001b[0;36m<module>\u001b[1;34m\u001b[0m\n\u001b[1;32m----> 1\u001b[1;33m \u001b[0mheader\u001b[0m \u001b[1;33m=\u001b[0m \u001b[0mnext\u001b[0m\u001b[1;33m(\u001b[0m\u001b[0mcsvreader\u001b[0m\u001b[1;33m)\u001b[0m\u001b[1;33m\u001b[0m\u001b[1;33m\u001b[0m\u001b[0m\n\u001b[0m\u001b[0;32m      2\u001b[0m \u001b[0mline_num\u001b[0m \u001b[1;33m+=\u001b[0m \u001b[1;36m1\u001b[0m\u001b[1;33m\u001b[0m\u001b[1;33m\u001b[0m\u001b[0m\n\u001b[0;32m      3\u001b[0m \u001b[0mprint\u001b[0m\u001b[1;33m(\u001b[0m\u001b[1;34mf\"{header}<----HEADER\"\u001b[0m\u001b[1;33m)\u001b[0m\u001b[1;33m\u001b[0m\u001b[1;33m\u001b[0m\u001b[0m\n\u001b[0;32m      4\u001b[0m \u001b[1;32mfor\u001b[0m \u001b[0mrow\u001b[0m \u001b[1;32min\u001b[0m \u001b[0mcsvreader\u001b[0m\u001b[1;33m:\u001b[0m\u001b[1;33m\u001b[0m\u001b[1;33m\u001b[0m\u001b[0m\n\u001b[0;32m      5\u001b[0m     \u001b[0mprint\u001b[0m\u001b[1;33m(\u001b[0m\u001b[0mrow\u001b[0m\u001b[1;33m)\u001b[0m\u001b[1;33m\u001b[0m\u001b[1;33m\u001b[0m\u001b[0m\n",
      "\u001b[1;31mValueError\u001b[0m: I/O operation on closed file."
     ]
    }
   ],
   "source": [
    "    header = next(csvreader)\n",
    "    line_num += 1\n",
    "    print(f\"{header}<----HEADER\")\n",
    "    for row in csvreader: \n",
    "        print(row)\n",
    "        ProfitLosses = int(row[1])\n",
    "        profitloss.append(ProfitLosses)"
   ]
  },
  {
   "cell_type": "code",
   "execution_count": null,
   "id": "35b933dd-b1de-49cb-88f3-c595d28b6d78",
   "metadata": {},
   "outputs": [],
   "source": [
    "    \n",
    "    print(type(csvreader))"
   ]
  },
  {
   "cell_type": "code",
   "execution_count": null,
   "id": "78f9aed9-5978-4777-9de8-e416476f023a",
   "metadata": {},
   "outputs": [],
   "source": [
    "maxpl=0\n",
    "minpl=0\n",
    "avgpl=0\n",
    "totalpl=0\n",
    "countpl=0"
   ]
  },
  {
   "cell_type": "code",
   "execution_count": null,
   "id": "f49efcd7-b207-4c8a-bdcb-dd3802c564f6",
   "metadata": {},
   "outputs": [],
   "source": [
    "for ProfitLosses in profitloss:\n",
    "    totalpl += ProfitLosses\n",
    "    countpl += 1\n",
    "    if minpl == 0:\n",
    "        minpl = ProfitLosses\n",
    "    elif ProfitLosses>maxpl:\n",
    "        maxpl=ProfitLosses\n",
    "    elif ProfitLosses<minpl:\n",
    "        minpl=ProfitLosses"
   ]
  },
  {
   "cell_type": "code",
   "execution_count": null,
   "id": "3fa29ff9-3980-4e30-81e2-b68a219b67f8",
   "metadata": {},
   "outputs": [],
   "source": [
    "avgpl=round(totalpl/countpl, 2)"
   ]
  },
  {
   "cell_type": "code",
   "execution_count": null,
   "id": "4afc1ba2-5e9f-4b00-96e5-117e809e9e99",
   "metadata": {},
   "outputs": [],
   "source": [
    "print(maxpl, minpl, avgpl)"
   ]
  },
  {
   "cell_type": "code",
   "execution_count": null,
   "id": "0dbaa5a3-8543-4643-a865-f677a3bc4ae2",
   "metadata": {},
   "outputs": [],
   "source": [
    "header = [\"maxpl\", \"minpl\", \"avgpl\"]"
   ]
  },
  {
   "cell_type": "code",
   "execution_count": null,
   "id": "61bcf781-8c33-49a0-a7fe-e198a9c99585",
   "metadata": {},
   "outputs": [],
   "source": [
    "metrics = [maxpl, minpl, avgpl]"
   ]
  },
  {
   "cell_type": "code",
   "execution_count": null,
   "id": "27ac00d9-2a8c-46c3-bc44-46f41cfb0237",
   "metadata": {},
   "outputs": [],
   "source": [
    "output_path=Path(r'C:\\Users\\jesse\\python-homework\\PyBank\\budget_data.csv')"
   ]
  },
  {
   "cell_type": "code",
   "execution_count": null,
   "id": "fd612527-f3d3-4b76-b655-1fa47af35fee",
   "metadata": {},
   "outputs": [],
   "source": [
    "with open(r'C:\\Users\\jesse\\python-homework\\PyBank\\budget_data.csv',\"w\") as csvpath:\n",
    "    csvwriter = csv.writer(csvfile, delimiter=',')\n",
    "    csvwriter.writerow(header)\n",
    "    csvwiterow(metrics)"
   ]
  }
 ],
 "metadata": {
  "kernelspec": {
   "display_name": "Python 3",
   "language": "python",
   "name": "python3"
  },
  "language_info": {
   "codemirror_mode": {
    "name": "ipython",
    "version": 3
   },
   "file_extension": ".py",
   "mimetype": "text/x-python",
   "name": "python",
   "nbconvert_exporter": "python",
   "pygments_lexer": "ipython3",
   "version": "3.8.8"
  }
 },
 "nbformat": 4,
 "nbformat_minor": 5
}
